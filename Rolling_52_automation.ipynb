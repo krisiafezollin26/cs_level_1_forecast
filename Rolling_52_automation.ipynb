{
 "cells": [
  {
   "cell_type": "markdown",
   "id": "c1fbfaf2",
   "metadata": {},
   "source": [
    "#### The objective of this function is to union data from rolling 52 production file with fc_output and export it to rolling 52 production file"
   ]
  },
  {
   "cell_type": "code",
   "execution_count": 7,
   "id": "9949e0cd",
   "metadata": {},
   "outputs": [],
   "source": [
    "import Bens_forecasting_utils as fc\n",
    "import pandas as pd\n",
    "import datetime\n",
    "import numpy as np\n",
    "import logging\n",
    "import sys"
   ]
  },
  {
   "cell_type": "code",
   "execution_count": 8,
   "id": "5adaae3b",
   "metadata": {},
   "outputs": [],
   "source": [
    "parameters = dict(\n",
    "    \n",
    "    # rolling 52 week production:\n",
    "    sheet_id                    = '1C9qos9wtf-CI3tmNXcIKnbV4V3f-GDFxa54ThF1pCvI',\n",
    "    tab                         = 'raw!A1:F'\n",
    ")"
   ]
  },
  {
   "cell_type": "code",
   "execution_count": 9,
   "id": "7b3a0795",
   "metadata": {},
   "outputs": [],
   "source": [
    "parameters_2= dict(\n",
    "    \n",
    "    # wfm forecasting fc_output:\n",
    "    sheet_id                    = '1VyNaIoJaFiz7wxM9qlEdPIujqTPh8LhyyMNf2YcjXPo',\n",
    "    tab                         = 'fc_output!A1:F'\n",
    ")"
   ]
  },
  {
   "cell_type": "code",
   "execution_count": 10,
   "id": "392b4c72",
   "metadata": {},
   "outputs": [],
   "source": [
    "def rolling_52(date, parameters=parameters, parameters_2=parameters_2):\n",
    "    \n",
    "    # creating dataframe df:rolling 52 week production\n",
    "    # fc_output: WFM Forecasting CW\n",
    "    \n",
    "    df = fc.import_gsheet_to_df(parameters['sheet_id'], parameters['tab'])\n",
    "    fc_output = fc.import_gsheet_to_df(parameters_2['sheet_id'], parameters_2['tab'])\n",
    "    \n",
    "    # convert forecast_date column to datetime\n",
    "    fc_output['forecast_date'] = pd.to_datetime(fc_output['forecast_date']).dt.strftime('%d/%m/%Y')\n",
    "    \n",
    "    # changing column names in fc_output\n",
    "    fc_output.rename(columns={'forecast_date':'ds','language/market/iban':'language'},inplace=True)\n",
    "    \n",
    "    # merging rolling 52 week production with fc_output\n",
    "    data = df.merge(fc_output,how='outer',on=['ds','language','channel'])\n",
    "\n",
    "    # convert ds column to datetime\n",
    "    data['ds'] = pd.to_datetime(data['ds'],format='%d/%m/%Y')\n",
    "    \n",
    "    # adding date to filter and creating a new column\n",
    "    compare_date = pd.to_datetime(date,format='%d/%m/%Y')\n",
    "    data['compare'] = np.where(data['ds']<compare_date,'before','after')\n",
    "    \n",
    "    # creating before and after to merge them\n",
    "    before = data[data['compare']=='before'][['ds','language','channel','yhat','yhat_upper','yhat_lower']]\n",
    "    after = data[data['compare']=='after'][['ds','language','channel','final_vol_forecast',\n",
    "                                            'final_vol_forecast_upper_bound','final_vol_forecast_lower_bound']]\n",
    "    \n",
    "    # renaming columns before union\n",
    "    after.rename(columns={'final_vol_forecast':'yhat','final_vol_forecast_upper_bound':'yhat_upper',\n",
    "             'final_vol_forecast_lower_bound':'yhat_lower'},inplace=True)\n",
    "    \n",
    "    # union before and after\n",
    "    roll = pd.concat([before,after])\n",
    "    \n",
    "    # converting to float to keep decimals\n",
    "    roll['yhat'] = pd.to_numeric(roll['yhat']).round(2)\n",
    "    roll['yhat_upper'] = pd.to_numeric(roll['yhat_upper']).round(2)\n",
    "    roll['yhat_lower'] = pd.to_numeric(roll['yhat_lower']).round(2)\n",
    "    \n",
    "    # converting to datetime for exporting\n",
    "    roll['ds'] = roll['ds'].dt.strftime('%Y-%m-%d %H:%M:%S')\n",
    "    na = roll[roll.isna().any(axis=1)]\n",
    "    \n",
    "    roll = roll.sort_values(by=['language','channel','ds'])\n",
    "    \n",
    "    # export parameters:\n",
    "    gsheet_export_params = dict(\n",
    "    \n",
    "    df                 = roll,\n",
    "    gsheet_id          = parameters['sheet_id'],\n",
    "    gsheet_tab_name    = 'raw',\n",
    "    include_df_headers = True,\n",
    "    tab_colour         = (0.0, 0.0, 0.0) #RGB tab colour\n",
    "        )\n",
    "\n",
    "    fc.export_df_to_google_sheet(**gsheet_export_params)\n",
    "    \n",
    "    return na"
   ]
  },
  {
   "cell_type": "markdown",
   "id": "3c666cc6",
   "metadata": {},
   "source": [
    "### taking the copy of the rolling 52 production file before running the function would be safer!"
   ]
  },
  {
   "cell_type": "markdown",
   "id": "b7dd05d7",
   "metadata": {},
   "source": [
    "#### make sure that yhat, yhat_upper, yhat_lower is with 2 decimals in rolling book before running the function"
   ]
  },
  {
   "cell_type": "code",
   "execution_count": 11,
   "id": "93137b24",
   "metadata": {},
   "outputs": [
    {
     "data": {
      "text/html": [
       "<div>\n",
       "<style scoped>\n",
       "    .dataframe tbody tr th:only-of-type {\n",
       "        vertical-align: middle;\n",
       "    }\n",
       "\n",
       "    .dataframe tbody tr th {\n",
       "        vertical-align: top;\n",
       "    }\n",
       "\n",
       "    .dataframe thead th {\n",
       "        text-align: right;\n",
       "    }\n",
       "</style>\n",
       "<table border=\"1\" class=\"dataframe\">\n",
       "  <thead>\n",
       "    <tr style=\"text-align: right;\">\n",
       "      <th></th>\n",
       "      <th>ds</th>\n",
       "      <th>language</th>\n",
       "      <th>channel</th>\n",
       "      <th>yhat</th>\n",
       "      <th>yhat_upper</th>\n",
       "      <th>yhat_lower</th>\n",
       "    </tr>\n",
       "  </thead>\n",
       "  <tbody>\n",
       "  </tbody>\n",
       "</table>\n",
       "</div>"
      ],
      "text/plain": [
       "Empty DataFrame\n",
       "Columns: [ds, language, channel, yhat, yhat_upper, yhat_lower]\n",
       "Index: []"
      ]
     },
     "execution_count": 11,
     "metadata": {},
     "output_type": "execute_result"
    }
   ],
   "source": [
    "# it includes the date you added in the function as well for your information\n",
    "# if your dataframe is with n/a you should check first ds, then language, then channel to be the same name\n",
    "rolling_52(date='07/01/2025') "
   ]
  }
 ],
 "metadata": {
  "kernelspec": {
   "display_name": "Python 3 (ipykernel)",
   "language": "python",
   "name": "python3"
  },
  "language_info": {
   "codemirror_mode": {
    "name": "ipython",
    "version": 3
   },
   "file_extension": ".py",
   "mimetype": "text/x-python",
   "name": "python",
   "nbconvert_exporter": "python",
   "pygments_lexer": "ipython3",
   "version": "3.13.1"
  }
 },
 "nbformat": 4,
 "nbformat_minor": 5
}
